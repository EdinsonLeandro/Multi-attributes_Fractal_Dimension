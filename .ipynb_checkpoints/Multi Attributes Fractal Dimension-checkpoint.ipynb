{
 "cells": [
  {
   "cell_type": "markdown",
   "id": "647abe50",
   "metadata": {},
   "source": [
    "# Multi Attributes Fractal Dimension"
   ]
  },
  {
   "cell_type": "markdown",
   "id": "856d7e07",
   "metadata": {},
   "source": [
    "## Exploratory Data Analysis"
   ]
  },
  {
   "cell_type": "markdown",
   "id": "45abe240",
   "metadata": {},
   "source": [
    "Summarize about \"SeisLab3.02\" package. You can download from Mathworks [here](https://www.mathworks.com/matlabcentral/fileexchange/53109-seislab-3-02)"
   ]
  },
  {
   "cell_type": "code",
   "execution_count": 1,
   "id": "993bc025",
   "metadata": {},
   "outputs": [
    {
     "name": "stdout",
     "output_type": "stream",
     "text": [
      "\n"
     ]
    }
   ],
   "source": [
    "% Folder with 'SeisLab3.02' package\n",
    "addpath(genpath('SeisLab3.02'))\n",
    "\n",
    "% Folder with 'Segymat' package\n",
    "addpath(genpath('Segymat'))\n",
    "\n",
    "% Folder with data\n",
    "addpath(genpath('Data'))\n",
    "\n",
    "% Folder with Assets\n",
    "addpath(genpath('Assets'))"
   ]
  },
  {
   "cell_type": "code",
   "execution_count": 2,
   "id": "5a5bce97",
   "metadata": {},
   "outputs": [
    {
     "name": "stdout",
     "output_type": "stream",
     "text": [
      "Seismic data shifted since header \"lag\" is not identically zero.\n",
      "Lag varies from 1300 to 1300\n",
      "\n",
      "data = \n",
      "\n",
      "  struct with fields:\n",
      "\n",
      "                      type: 'seismic'\n",
      "                       tag: 'unspecified'\n",
      "                      name: 'instantaneous_amplitude_IL_900-903 - shifted'\n",
      "                      from: 'Data\\Inline 900-903\\instantaneous_amplitude_IL_900-903.segy'\n",
      "               line_number: 1\n",
      "               reel_number: 1\n",
      "         traces_per_record: 1\n",
      "                  cdp_fold: 1\n",
      "                     first: 1300\n",
      "                      last: 3300\n",
      "                      step: 4\n",
      "                     units: 'ms'\n",
      "                    traces: [501x5132 double]\n",
      "                      null: []\n",
      "                   history: {2x4 cell}\n",
      "               header_info: {13x3 cell}\n",
      "                   headers: [13x5132 double]\n",
      "    fp_format_of_segy_file: 'ibm'\n",
      "\n",
      "Elapsed time is 0.861821 seconds.\n",
      "\n"
     ]
    }
   ],
   "source": [
    "tic\n",
    "data = read_segy_file('Data/Inline 900-903/instantaneous_amplitude_IL_900-903.segy', ...\n",
    "                     {'headers', {'iline_no', 189, 4, 'n/a', 'In-line number'}})\n",
    "toc"
   ]
  },
  {
   "cell_type": "code",
   "execution_count": 3,
   "id": "27dca9c7",
   "metadata": {},
   "outputs": [
    {
     "name": "stdout",
     "output_type": "stream",
     "text": [
      "\n",
      "ans =\n",
      "\n",
      "       674.98\n",
      "       639.51\n",
      "       595.04\n",
      "       484.41\n",
      "       321.41\n",
      "\n",
      "\n"
     ]
    }
   ],
   "source": [
    "format shortG\n",
    "data.traces(1:5, 100)"
   ]
  },
  {
   "cell_type": "code",
   "execution_count": 4,
   "id": "0017f91f",
   "metadata": {},
   "outputs": [
    {
     "name": "stdout",
     "output_type": "stream",
     "text": [
      "\n",
      "ans =\n",
      "\n",
      "  13x3 cell array\n",
      "\n",
      "    {'ds_seqno'  }    {'n/a'}    {'Trace sequence number within line'   }\n",
      "    {'ffid'      }    {'n/a'}    {'Original Field record number'        }\n",
      "    {'o_trace_no'}    {'n/a'}    {'Trace sequence number within orig...'}\n",
      "    {'cdp'       }    {'n/a'}    {'CDP number'                          }\n",
      "    {'seq_cdp'   }    {'n/a'}    {'Trace sequence number within CDP ...'}\n",
      "    {'sou_x'     }    {'m'  }    {'X coordinate of source'              }\n",
      "    {'sou_y'     }    {'m'  }    {'Y coordinate of source'              }\n",
      "    {'cdp_x'     }    {'n/a'}    {'X-coordinate of CDP'                 }\n",
      "    {'cdp_y'     }    {'n/a'}    {'Y-coordinate of CDP'                 }\n",
      "    {'xline_no'  }    {'n/a'}    {'Cross-line number'                   }\n",
      "    {'trc_type'  }    {'n/a'}    {'Trace type (1=live,2=dead,3=dummy...'}\n",
      "    {'lag'       }    {'ms' }    {'Lag time between shot and recordi...'}\n",
      "    {'iline_no'  }    {'n/a'}    {'In-line number'                      }\n",
      "\n",
      "\n"
     ]
    }
   ],
   "source": [
    "data.header_info"
   ]
  },
  {
   "cell_type": "markdown",
   "id": "75812f1a",
   "metadata": {},
   "source": [
    "## Input data"
   ]
  },
  {
   "cell_type": "markdown",
   "id": "8c743649",
   "metadata": {},
   "source": [
    "Just in case you need to change the [format](https://www.mathworks.com/help/matlab/ref/format.html) to display data."
   ]
  },
  {
   "cell_type": "code",
   "execution_count": 5,
   "id": "f64f8976",
   "metadata": {},
   "outputs": [
    {
     "name": "stdout",
     "output_type": "stream",
     "text": [
      "\n"
     ]
    }
   ],
   "source": [
    "% format longG\n",
    "format compact"
   ]
  },
  {
   "cell_type": "code",
   "execution_count": 6,
   "id": "d6a6be50",
   "metadata": {},
   "outputs": [
    {
     "name": "stdout",
     "output_type": "stream",
     "text": [
      "\n"
     ]
    }
   ],
   "source": [
    "% Definition of time window, above and below the horizon of interest.\n",
    "TIME_ABOVE_HORIZON = 0;\n",
    "TIME_BELOW_HORIZON = 20;\n",
    "\n",
    "% Array of strings containing the names of the seismic attribute files.\n",
    "files = {'Data/Inline 900-903/seismic_amplitude_IL_900-903.segy', ...\n",
    "         'Data/Inline 900-903/instantaneous_amplitude_IL_900-903.segy', ...\n",
    "         'Data/Inline 900-903/instantaneous_frecuency_IL_900-903.segy'};\n",
    "         \n",
    "% Array of strings containing the titles of the input seismic attributes.\n",
    "titlesFiles = {'Seismic amplitude', 'Instantaneous amplitude', 'Instantaneous frequency'};"
   ]
  },
  {
   "cell_type": "code",
   "execution_count": 7,
   "id": "f30e39d2",
   "metadata": {},
   "outputs": [
    {
     "name": "stdout",
     "output_type": "stream",
     "text": [
      "\n"
     ]
    }
   ],
   "source": [
    "% Definition of the weights for each attributes. It must be the same quantity as the input attributes and their sum must be\n",
    "% equal to 1. These are used to control the contribution of each seismic attribute in the calculation of Fractal Dimension.\n",
    "ALPHA = [0.33, 0.33, 0.33];\n",
    "\n",
    "% File to save the calculation of Fractal Dimension.\n",
    "fileFractalDim = {'Data/EM_MER-U2_Fractal_Dimension.prn'};\n",
    "\n",
    "% Number of traces to perform Quality Control (QC )of the calculations.\n",
    "NUMTRACESQC = 5;\n",
    "\n",
    "% Minimum and Maximum values of input seismic data. Extracted from Textual Header. [[min, max]; [min, max]; [min, max]]\n",
    "MINMAX = [[-7469.42, 6192.14]; [0.0, 5228.60]; [0.0, 125.0]];"
   ]
  },
  {
   "cell_type": "markdown",
   "id": "2fc2d974",
   "metadata": {},
   "source": [
    "## Load data "
   ]
  },
  {
   "cell_type": "markdown",
   "id": "13c56ab1",
   "metadata": {},
   "source": [
    "### Surface Data"
   ]
  },
  {
   "cell_type": "code",
   "execution_count": 8,
   "id": "0e47c633",
   "metadata": {},
   "outputs": [
    {
     "name": "stdout",
     "output_type": "stream",
     "text": [
      "\n"
     ]
    }
   ],
   "source": [
    "% Opening of the time surface of interest. The format must be X - Y - Time. Otherwise, it would generate an error.\n",
    "% X-Y are coordinates.\n",
    "assy = fopen('Data/EM_MER-U2.prn');\n",
    "\n",
    "switch assy\n",
    "    case -1\n",
    "        errordlg('The surface file is not in the current directory', 'Error!');\n",
    "    otherwise\n",
    "        try\n",
    "            reg = fscanf(assy, '%10f');\n",
    "            surfaceData = reshape(reg,3,[])';\n",
    "        catch id\n",
    "            errordlg('The file does not have the format X-Y-Time', 'Error!'); \n",
    "        end \n",
    "end"
   ]
  },
  {
   "cell_type": "code",
   "execution_count": 9,
   "id": "265a9568",
   "metadata": {},
   "outputs": [
    {
     "name": "stdout",
     "output_type": "stream",
     "text": [
      "ans =\n",
      "      504175           3\n",
      "\n"
     ]
    }
   ],
   "source": [
    "size(surfaceData)"
   ]
  },
  {
   "cell_type": "code",
   "execution_count": 10,
   "id": "8a4bb56e",
   "metadata": {},
   "outputs": [
    {
     "name": "stdout",
     "output_type": "stream",
     "text": [
      "ans =\n",
      "                    368425                   1018414                 2335.5974\n",
      "                    368425                   1018564                 2332.6064\n",
      "                    368425                   1018939                 2360.4221\n",
      "                    368425                   1019014                 2350.2068\n",
      "                    368425                   1019464                    2396.7\n",
      "\n"
     ]
    }
   ],
   "source": [
    "% First 5 rows of surface data\n",
    "format longG\n",
    "surfaceData(1:5, :)"
   ]
  },
  {
   "cell_type": "markdown",
   "id": "d004d2e9",
   "metadata": {},
   "source": [
    "### Seismic data"
   ]
  },
  {
   "cell_type": "code",
   "execution_count": 11,
   "id": "97e55296",
   "metadata": {},
   "outputs": [
    {
     "name": "stdout",
     "output_type": "stream",
     "text": [
      "\n"
     ]
    }
   ],
   "source": [
    "% Number of attributes to use in the algorithm\n",
    "nAttributes = size(files, 2);"
   ]
  },
  {
   "cell_type": "code",
   "execution_count": 12,
   "id": "2818ee2b",
   "metadata": {},
   "outputs": [
    {
     "name": "stdout",
     "output_type": "stream",
     "text": [
      "\n"
     ]
    }
   ],
   "source": [
    "% Raise error dialog if the sum of the weights is different from one, or they differ from the number of input attributes.\n",
    "\n",
    "if (sum(ALPHA) < 0.99)\n",
    "    errordlg('The sum of weights are not equal to 1', 'Error!'); \n",
    "    \n",
    "elseif (nAttributes ~= size(ALPHA,2))\n",
    "    errordlg('The number of weights is not equal to the input attributes.', 'Error!'); \n",
    "    \n",
    "end"
   ]
  },
  {
   "cell_type": "markdown",
   "id": "39a41326",
   "metadata": {},
   "source": [
    "The following data must be the same for each seismic volume.\n",
    "- dtSample: Sampling interval (microseconds).\n",
    "- nSamples: Number of samples.\n",
    "- nTraces: Number of traces."
   ]
  },
  {
   "cell_type": "code",
   "execution_count": 13,
   "id": "e5721bc2",
   "metadata": {},
   "outputs": [
    {
     "name": "stdout",
     "output_type": "stream",
     "text": [
      "\n"
     ]
    }
   ],
   "source": [
    "% If there was selected only one seismic volume, no verification need it.\n",
    "\n",
    "if nAttributes >= 2\n",
    "    [dtSample, nSamples, nTraces] = checkSegyData(files);\n",
    "else\n",
    "    [segyHeader] = ReadSegyHeader(files{1});\n",
    "    dtSample= segyHeader.dt/1000;\n",
    "    nSamples= segyHeader.ns;\n",
    "    nTraces = segyHeader.ntraces;\n",
    "end"
   ]
  },
  {
   "cell_type": "code",
   "execution_count": 14,
   "id": "6d55f095",
   "metadata": {},
   "outputs": [
    {
     "name": "stdout",
     "output_type": "stream",
     "text": [
      "Sampling interval: 4 ms.   Number of samples: 501.   Number of traces: 5132.\n",
      "\n"
     ]
    }
   ],
   "source": [
    "fprintf('Sampling interval: %d ms.   Number of samples: %d.   Number of traces: %d.\\n', dtSample, nSamples, nTraces); "
   ]
  },
  {
   "cell_type": "markdown",
   "id": "c841e185",
   "metadata": {},
   "source": [
    "## Data preprocessing"
   ]
  },
  {
   "cell_type": "markdown",
   "id": "96d15148",
   "metadata": {},
   "source": [
    "### Time column"
   ]
  },
  {
   "cell_type": "code",
   "execution_count": 15,
   "id": "00f15b62",
   "metadata": {},
   "outputs": [
    {
     "name": "stdout",
     "output_type": "stream",
     "text": [
      "\n"
     ]
    }
   ],
   "source": [
    "% Reade segy header\n",
    "[segyHeader] = ReadSegyHeader(files{1});\n",
    "\n",
    "% Read segy trace header\n",
    "% 'SkipData': Read only the header values (Data will return empty)\n",
    "[~ , segyTrace1Header] = ReadSegy(files{1}, 'traces', 1, 'SkipData', 1);"
   ]
  },
  {
   "cell_type": "code",
   "execution_count": 16,
   "id": "da7380c5",
   "metadata": {},
   "outputs": [
    {
     "name": "stdout",
     "output_type": "stream",
     "text": [
      "\n"
     ]
    }
   ],
   "source": [
    "% From \"segyHeader\" read time column and sampling interval. Multiply and divide by 1000 to get miliseconds.\n",
    "% From \"segyTraceHeader\" read \"Delay Recording Time\".\n",
    "timeColumn = segyHeader.time*1000 - segyHeader.dt/1000 + segyTrace1Header.DelayRecordingTime;"
   ]
  },
  {
   "cell_type": "code",
   "execution_count": 17,
   "id": "f0c9d1e6",
   "metadata": {},
   "outputs": [
    {
     "name": "stdout",
     "output_type": "stream",
     "text": [
      "\n"
     ]
    }
   ],
   "source": [
    "% k1 and k2. Number of samples to extract seismic data for Fractal Dimension analysis.\n",
    "% It depends on the time window previously chosen.\n",
    "nTop = ceil(TIME_ABOVE_HORIZON/dtSample);\n",
    "nBottom = ceil(TIME_BELOW_HORIZON/dtSample);"
   ]
  },
  {
   "cell_type": "markdown",
   "id": "7027206b-273a-4aa6-b5db-ca00a79c1248",
   "metadata": {},
   "source": [
    "### Seismic data"
   ]
  },
  {
   "cell_type": "markdown",
   "id": "a6f9ab0d-2945-4205-a4ae-d0d1e1a06f3a",
   "metadata": {},
   "source": [
    "It is very common seismic data with a constant number of seismic traces per Inline (so it is in these data). However, trace sequence line in segy file starts at 1 for each Inline, it does not follow a linear sequence. This sequence is calculated here, which will allow a much faster reading of data from a large file."
   ]
  },
  {
   "cell_type": "code",
   "execution_count": 18,
   "id": "a2ee96bb-ea4d-4536-a224-f24e2d4485b5",
   "metadata": {},
   "outputs": [
    {
     "name": "stdout",
     "output_type": "stream",
     "text": [
      "Elapsed time is 0.000141 seconds.\n",
      "\n"
     ]
    }
   ],
   "source": [
    "tic\n",
    "% This function tackes too much execution time (3.2 seconds for read 4 Inlines).\n",
    "% coordinatesSeismicTraces = traceNumbers(files{1}, nTraces);\n",
    "toc"
   ]
  },
  {
   "cell_type": "markdown",
   "id": "ab53ac63-6fd0-47aa-b588-62ebc2556ceb",
   "metadata": {},
   "source": [
    "X-Y coordinates of all traces in the seismic volume. These coordinates will be the same in all input seismic volumes, because the sampling interval, the number of samples and the number of traces are the same. Also, they are divided by 100 to bring them to metric scale. "
   ]
  },
  {
   "cell_type": "code",
   "execution_count": 19,
   "id": "ed9c7170-2c77-4145-85fc-b2f2d0214f6b",
   "metadata": {},
   "outputs": [
    {
     "name": "stdout",
     "output_type": "stream",
     "text": [
      "Elapsed time is 0.264188 seconds.\n",
      "\n"
     ]
    }
   ],
   "source": [
    "tic\n",
    "% Coordinates of seismic traces and trace numbers\n",
    "coordinatesSeismicTraces = zeros(nTraces, 3);\n",
    "\n",
    "% Read X and Y coordinates.\n",
    "% <B = A.'> is equal to <B = transpose(A)>\n",
    "coordinatesSeismicTraces(:,1) = ReadSegyTraceHeaderValue(files{1}, 'key', 'cdpX').';\n",
    "coordinatesSeismicTraces(:,2) = ReadSegyTraceHeaderValue(files{1}, 'key', 'cdpY').';\n",
    "\n",
    "% Divide each coordinate by 100 (metric scale)\n",
    "coordinatesSeismicTraces = round(coordinatesSeismicTraces./100);\n",
    "\n",
    "% Linear sequence of trace numbers.\n",
    "coordinatesSeismicTraces(:, 3) = 1:nTraces;\n",
    "\n",
    "toc"
   ]
  },
  {
   "cell_type": "markdown",
   "id": "5f5613e3-c77b-4b61-907e-9a8cfa438080",
   "metadata": {},
   "source": [
    "Select X-Y coordinates and the number of seismic traces where surface data was interpolated. "
   ]
  },
  {
   "cell_type": "code",
   "execution_count": 20,
   "id": "e02f2955",
   "metadata": {},
   "outputs": [
    {
     "name": "stdout",
     "output_type": "stream",
     "text": [
      "\n"
     ]
    }
   ],
   "source": [
    "selectedCoordinates = selectEqualCoord(nTraces, surfaceData, coordinatesSeismicTraces);"
   ]
  },
  {
   "cell_type": "code",
   "execution_count": 21,
   "id": "8229b26f",
   "metadata": {},
   "outputs": [
    {
     "name": "stdout",
     "output_type": "stream",
     "text": [
      "Number of traces in seismic data is : 5132.\n",
      "Number of traces selected to Fractal Dimension Calculations: 1312\n"
     ]
    }
   ],
   "source": [
    "fprintf('Number of traces in seismic data is : %d.\\nNumber of traces selected to Fractal Dimension Calculations: %d', ...\n",
    "        size(coordinatesSeismicTraces, 1), size(selectedCoordinates, 1)); "
   ]
  },
  {
   "cell_type": "markdown",
   "id": "9719de6b-817a-49b1-b275-2a43ffcb899c",
   "metadata": {},
   "source": [
    "### Surface data"
   ]
  },
  {
   "cell_type": "markdown",
   "id": "dab03b8a-b0de-401a-8232-0138265e2f74",
   "metadata": {},
   "source": [
    "Select surface data with coordinates equal to seismic data."
   ]
  },
  {
   "cell_type": "code",
   "execution_count": 22,
   "id": "2215ad8c-fbc1-428e-ae44-775cc3cab671",
   "metadata": {},
   "outputs": [
    {
     "name": "stdout",
     "output_type": "stream",
     "text": [
      "\n"
     ]
    }
   ],
   "source": [
    "selectedSurface = selectEqualCoord(nTraces, selectedCoordinates, surfaceData);"
   ]
  },
  {
   "cell_type": "markdown",
   "id": "e38bf337",
   "metadata": {},
   "source": [
    "### Preallocating matrices"
   ]
  },
  {
   "cell_type": "code",
   "execution_count": 23,
   "id": "92c48375",
   "metadata": {},
   "outputs": [
    {
     "name": "stdout",
     "output_type": "stream",
     "text": [
      "\n"
     ]
    }
   ],
   "source": [
    "% Number of samples selected to Fractal dimension calculations.\n",
    "nTracesSelected = size(selectedCoordinates, 1);"
   ]
  },
  {
   "cell_type": "code",
   "execution_count": 24,
   "id": "cd23b782",
   "metadata": {},
   "outputs": [
    {
     "name": "stdout",
     "output_type": "stream",
     "text": [
      "\n"
     ]
    }
   ],
   "source": [
    "% This matrix will store the results of Fractal Dimension calculations.\n",
    "results = zeros(nTracesSelected, 3);\n",
    "\n",
    "% This vector will store the values of R2 in order to make a histogram.\n",
    "allR2 = zeros(nTracesSelected, 1);"
   ]
  },
  {
   "cell_type": "markdown",
   "id": "dca83e8b",
   "metadata": {},
   "source": [
    "Definition of random numbers between 1 and the number of traces in seismic volumes. This will represent random traces, in order to perform Quality Control of Fractal Dimension calculations. In order to generate repeatable random numbers, we use:\n",
    "\n",
    "``` python\n",
    "rng(3, 'twister');\n",
    "```\n",
    "\n",
    "More information in this [link](https://www.mathworks.com/help/matlab/math/generate-random-numbers-that-are-repeatable.html)."
   ]
  },
  {
   "cell_type": "code",
   "execution_count": 25,
   "id": "2c7f571e",
   "metadata": {},
   "outputs": [
    {
     "name": "stdout",
     "output_type": "stream",
     "text": [
      "\n"
     ]
    }
   ],
   "source": [
    "rng(3, 'twister');\n",
    "nTracesQc = round(rand(1, NUMTRACESQC) * nTraces);"
   ]
  },
  {
   "cell_type": "code",
   "execution_count": 26,
   "id": "4226a7fb",
   "metadata": {},
   "outputs": [
    {
     "name": "stdout",
     "output_type": "stream",
     "text": [
      "nTracesQc =\n",
      "        2827        3634        1493        2622        4583\n",
      "\n"
     ]
    }
   ],
   "source": [
    "nTracesQc"
   ]
  },
  {
   "cell_type": "markdown",
   "id": "3147a4b6",
   "metadata": {},
   "source": [
    "Description of the matrices for Quality control:\n",
    "1. \"*seismicTracesQc*\": Seismic attributes traces.\n",
    "2. \"*paramsQc*\": Number of traces, slope, Fractal Dimension and the coefficient of determination R2.\n",
    "3. \"*coordinatesQc*\": Traces coordinates.\n",
    "4. \"*timeAnalysisQc*\": Time interval analysis.\n",
    "5. \"*dividerLengthQc*\": \"Dividers\" and \"Length\". Number of columns of both vectors is unknown, so pre-allocation is made with one column."
   ]
  },
  {
   "cell_type": "code",
   "execution_count": 27,
   "id": "2bbad09d",
   "metadata": {},
   "outputs": [
    {
     "name": "stdout",
     "output_type": "stream",
     "text": [
      "\n"
     ]
    }
   ],
   "source": [
    "seismicTracesQc = zeros(nTop+nBottom+1, nAttributes, NUMTRACESQC);\n",
    "\n",
    "paramsQc = zeros(NUMTRACESQC, 4);\n",
    "\n",
    "coordinatesQc = zeros(NUMTRACESQC, 2);\n",
    "\n",
    "timeAnalysisQc =  zeros(nTop+nBottom+1, NUMTRACESQC);\n",
    "\n",
    "dividerLengthQc = zeros(2, 1, NUMTRACESQC);"
   ]
  },
  {
   "cell_type": "markdown",
   "id": "9cce0157",
   "metadata": {
    "tags": []
   },
   "source": [
    "## Multi-attributes Fractal Dimension Algorithm"
   ]
  },
  {
   "cell_type": "code",
   "execution_count": 28,
   "id": "4d7b0f06",
   "metadata": {},
   "outputs": [
    {
     "name": "stdout",
     "output_type": "stream",
     "text": [
      "\n"
     ]
    }
   ],
   "source": [
    "% Close all open files\n",
    "fclose('all');\n",
    "\n",
    "% Initialize waitbar\n",
    "wb = waitbar(0, 'Analyzing data');\n",
    "\n",
    "% indexQc: index that indicates the trace number to QC.\n",
    "indexQc = 1;"
   ]
  },
  {
   "cell_type": "code",
   "execution_count": 29,
   "id": "4d9f32ec-0e00-4eff-8f8d-69315faf5b8c",
   "metadata": {},
   "outputs": [
    {
     "name": "stdout",
     "output_type": "stream",
     "text": [
      "\n"
     ]
    }
   ],
   "source": [
    "for iPoint = 1 : nTracesSelected\n",
    "    % Plot waitbar\n",
    "    waitbar(iPoint/nTracesSelected, wb)\n",
    "    \n",
    "    % Read trace number selected in seismic data.\n",
    "    seismicData = zeros(nSamples, nAttributes);\n",
    "    for jAttribute = 1 : nAttributes\n",
    "        % Read Segy data of each input\n",
    "        [Data, ~] = ReadSegy(files{jAttribute}, 'traces', selectedCoordinates(iPoint, 3));\n",
    "        seismicData(:, jAttribute) = Data;\n",
    "    end\n",
    "    \n",
    "    % Check if any of the seismic attributes data are empty. If this case, it will not calculate Fractal Dimension.\n",
    "    isEmptyData= any(all(seismicData==0));\n",
    "\n",
    "    % Continue calculations is seismic attributes data is not empty.\n",
    "    if ~isEmptyData\n",
    "        % Get time sample of surface data. \"floor\": Round towards -Inf.\n",
    "        timeSample = floor(selectedSurface(iPoint,3));\n",
    "\n",
    "        % Check if \"timeSample\" is a multiple of sampling interval of seismic data (4 miliseconds in this case).\n",
    "        % Otherwise, take the next higher multiple.\n",
    "        modulus = mod(timeSample, dtSample);\n",
    "        while modulus~=0\n",
    "            timeSample = timeSample - 1;\n",
    "            modulus = mod(timeSample, dtSample);\n",
    "        end\n",
    "\n",
    "        % Find the position of \"timeSample\" in \"timeColumn\" vector.\n",
    "        indexTimeSample = find(timeSample == timeColumn);\n",
    "\n",
    "        % Select seismic attributes data between time window previously defined. This will be the data under analysis.\n",
    "        analyzedData = zeros(nTop + nBottom + 1, nAttributes);\n",
    "\n",
    "        for i = 1 : nAttributes\n",
    "            analyzedData(:,i) = seismicData(indexTimeSample - nTop : indexTimeSample + nBottom, i);\n",
    "        end\n",
    "\n",
    "        % Normalization of data\n",
    "        normalizedData = minMaxScaler(analyzedData, MINMAX);\n",
    "\n",
    "        % Weighed normalized data\n",
    "        normalizedData = normalizedData .* ALPHA;\n",
    "        \n",
    "        % Fractal Dimension calculation\n",
    "        [dividers, length, slope, R2] = divplot2_EM(normalizedData);\n",
    "\n",
    "        % Fractal Dimension of the curve in space N-Dimension.\n",
    "        fractalDim = 1 + abs(slope);\n",
    "        \n",
    "        % Output. The order is X-Y-fractalDim.\n",
    "        results(iPoint,:) = [selectedCoordinates(iPoint,1), selectedCoordinates(iPoint,2), fractalDim]; \n",
    "\n",
    "        % Save R2 values, in order to perform a histogram with the results.\n",
    "        allR2(iPoint) = R2;\n",
    "\n",
    "        % Check if the trace under analysis is the selected for quality control\n",
    "        if ~isempty(intersect(nTracesQc, selectedCoordinates(iPoint, 3)))\n",
    "            % Input Trace: Each 3D from the matrix Tr_Analysis_norm_QC has\n",
    "            % data traces.\n",
    "            seismicTracesQc(:, :, indexQc) = analyzedData;\n",
    "            \n",
    "            % Each column will correspond to the data of each trace:\n",
    "            % Number of trace - slope - fractalDim - R2.\n",
    "            paramsQc(indexQc, 1) = selectedCoordinates(iPoint, 3); \n",
    "            paramsQc(indexQc, 2) = slope; \n",
    "            paramsQc(indexQc, 3) = fractalDim; \n",
    "            paramsQc(indexQc, 4) = R2;\n",
    "            \n",
    "            % Coordinates X/Y - dividers/length\n",
    "            coordinatesQc(indexQc, :) = surfaceData(iPoint, 1:2); \n",
    "\n",
    "            % Time column under analysis, according to time found in the\n",
    "            % surface of interest.            \n",
    "            initialTime = timeSample - (nTop * dtSample);            \n",
    "            for i = 1 : (nTop+nBottom+1)\n",
    "                timeAnalysisQc(i,indexQc) = initialTime + dtSample*(i-1);\n",
    "            end % End for\n",
    "            \n",
    "            % \"Dividers\" size and total \"length\". The 3rd dimension\n",
    "            % of the hyper matrix corresponds to each trace.\n",
    "            dividerLengthQc(1, 1:size(dividers,2), indexQc) = dividers; \n",
    "            dividerLengthQc(2, 1:size(dividers,2), indexQc) = length; \n",
    "\n",
    "            indexQc = indexQc + 1;\n",
    "        end % End if\n",
    "\n",
    "    % Close all open files.\n",
    "    fclose('all');\n",
    "    \n",
    "    end % End if\n",
    "\n",
    "end % End for\n",
    "\n",
    "% Close waitbar\n",
    "close(wb)"
   ]
  },
  {
   "cell_type": "markdown",
   "id": "5dad78e1-a7d9-4c66-aa74-82559779c93d",
   "metadata": {},
   "source": [
    "## Results"
   ]
  },
  {
   "cell_type": "code",
   "execution_count": 30,
   "id": "f5aa6a71-0bed-45e9-b5fa-dbe13b9df556",
   "metadata": {},
   "outputs": [
    {
     "name": "stdout",
     "output_type": "stream",
     "text": [
      "\n"
     ]
    }
   ],
   "source": [
    "% Remove zero rows (empty traces) from Fractal Dimension matrix.\n",
    "results( ~any(results, 2), : ) = [];\n",
    "\n",
    "% Fractal Dimension surface file.\n",
    "dlmwrite(fileFractalDim{1}, results, 'delimiter',' ','precision','%15.5f')\n",
    "\n",
    "% Close all open files\n",
    "fclose('all');"
   ]
  },
  {
   "cell_type": "code",
   "execution_count": 31,
   "id": "6498879b-1779-4f50-920b-42a8780b0c32",
   "metadata": {},
   "outputs": [
    {
     "name": "stdout",
     "output_type": "stream",
     "text": [
      "\n"
     ]
    },
    {
     "data": {
      "image/png": "[encoded data removed]",
      "text/plain": [
       "<IPython.core.display.Image object>"
      ]
     },
     "metadata": {},
     "output_type": "display_data"
    }
   ],
   "source": [
    "figure('Name','R^2 histogram in Fractal Dimension Calculation')\n",
    "allR2(allR2==0)=[];\n",
    "hist(allR2, (0.1:0.1:0.9));\n",
    "ylabel('Frequency'), xlabel('R^2');\n",
    "title('R^2 histogram in Fractal Dimension Calculation');"
   ]
  },
  {
   "cell_type": "code",
   "execution_count": 79,
   "id": "9cef87b3-1b4c-400d-95f5-c61dd72370b4",
   "metadata": {},
   "outputs": [
    {
     "name": "stdout",
     "output_type": "stream",
     "text": [
      "\n"
     ]
    }
   ],
   "source": [
    "addpath(genpath('Assets'))"
   ]
  },
  {
   "cell_type": "code",
   "execution_count": 80,
   "id": "216da034-0867-4df4-8a42-bc4aec365785",
   "metadata": {},
   "outputs": [
    {
     "name": "stdout",
     "output_type": "stream",
     "text": [
      "\n"
     ]
    },
    {
     "data": {
      "image/png": "[encoded data removed]",
      "text/plain": [
       "<IPython.core.display.Image object>"
      ]
     },
     "metadata": {},
     "output_type": "display_data"
    }
   ],
   "source": [
    "qualityControlTrace(seismicTracesQc, paramsQc, coordinatesQc, timeAnalysisQc, titlesFiles, 1)"
   ]
  },
  {
   "cell_type": "code",
   "execution_count": null,
   "id": "da349621-9820-41d7-8520-e9580f852da3",
   "metadata": {},
   "outputs": [],
   "source": [
    "qualityControlDividerLength(seismicTracesQc, paramsQc, dividerLengthQc, 1)"
   ]
  }
 ],
 "metadata": {
  "kernelspec": {
   "display_name": "Matlab",
   "language": "matlab",
   "name": "matlab"
  },
  "language_info": {
   "codemirror_mode": "octave",
   "file_extension": ".m",
   "help_links": [
    {
     "text": "MetaKernel Magics",
     "url": "https://metakernel.readthedocs.io/en/latest/source/README.html"
    }
   ],
   "mimetype": "text/x-octave",
   "name": "matlab",
   "version": "0.17.1"
  }
 },
 "nbformat": 4,
 "nbformat_minor": 5
}
