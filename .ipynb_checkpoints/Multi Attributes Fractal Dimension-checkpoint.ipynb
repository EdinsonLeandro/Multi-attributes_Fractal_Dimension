{
 "cells": [
  {
   "cell_type": "code",
   "execution_count": null,
   "id": "243c7c06",
   "metadata": {},
   "outputs": [],
   "source": []
  },
  {
   "cell_type": "code",
   "execution_count": null,
   "id": "ee010d91",
   "metadata": {},
   "outputs": [],
   "source": []
  },
  {
   "cell_type": "code",
   "execution_count": null,
   "id": "baee3c61",
   "metadata": {},
   "outputs": [],
   "source": []
  },
  {
   "cell_type": "markdown",
   "id": "856d7e07",
   "metadata": {},
   "source": [
    "## Exploratory Data Analysis"
   ]
  },
  {
   "cell_type": "markdown",
   "id": "45abe240",
   "metadata": {},
   "source": [
    "Summarize about \"SeisLab3.02\" package. You can download from Mathworks [here](https://www.mathworks.com/matlabcentral/fileexchange/53109-seislab-3-02)"
   ]
  },
  {
   "cell_type": "code",
   "execution_count": 1,
   "id": "993bc025",
   "metadata": {},
   "outputs": [
    {
     "name": "stdout",
     "output_type": "stream",
     "text": [
      "\n"
     ]
    }
   ],
   "source": [
    "% Folder with 'SeisLab3.02' package\n",
    "addpath(genpath('SeisLab3.02'))\n",
    "\n",
    "% Folder with data\n",
    "addpath(genpath('Data'))"
   ]
  },
  {
   "cell_type": "code",
   "execution_count": 16,
   "id": "5a5bce97",
   "metadata": {},
   "outputs": [
    {
     "name": "stdout",
     "output_type": "stream",
     "text": [
      "Seismic data shifted since header \"lag\" is not identically zero.\n",
      "Lag varies from 1300 to 1300\n",
      "\n",
      "data = \n",
      "\n",
      "  struct with fields:\n",
      "\n",
      "                      type: 'seismic'\n",
      "                       tag: 'unspecified'\n",
      "                      name: 'seismic_amplitude_IL_900-903 - shifted'\n",
      "                      from: 'Data\\Inline 900-903\\seismic_amplitude_IL_900-903.segy'\n",
      "               line_number: 1\n",
      "               reel_number: 1\n",
      "         traces_per_record: 1\n",
      "                  cdp_fold: 1\n",
      "                     first: 1300\n",
      "                      last: 3300\n",
      "                      step: 4\n",
      "                     units: 'ms'\n",
      "                    traces: [501x5132 double]\n",
      "                      null: []\n",
      "                   history: {2x4 cell}\n",
      "               header_info: {13x3 cell}\n",
      "                   headers: [13x5132 double]\n",
      "    fp_format_of_segy_file: 'ibm'\n",
      "\n",
      "\n"
     ]
    }
   ],
   "source": [
    "data = read_segy_file('Data/Inline 900-903/seismic_amplitude_IL_900-903.segy', ...\n",
    "                     {'headers', {'iline_no', 189, 4, 'n/a', 'In-line number'}})"
   ]
  },
  {
   "cell_type": "code",
   "execution_count": null,
   "id": "27dca9c7",
   "metadata": {},
   "outputs": [],
   "source": [
    "data.traces(:, 100)"
   ]
  },
  {
   "cell_type": "code",
   "execution_count": null,
   "id": "4180cee0",
   "metadata": {},
   "outputs": [],
   "source": [
    "class('3')"
   ]
  },
  {
   "cell_type": "code",
   "execution_count": 9,
   "id": "0017f91f",
   "metadata": {},
   "outputs": [
    {
     "name": "stdout",
     "output_type": "stream",
     "text": [
      "\n",
      "ans =\n",
      "\n",
      "  13x3 cell array\n",
      "\n",
      "    {'ds_seqno'  }    {'n/a'}    {'Trace sequence number within line'   }\n",
      "    {'ffid'      }    {'n/a'}    {'Original Field record number'        }\n",
      "    {'o_trace_no'}    {'n/a'}    {'Trace sequence number within orig...'}\n",
      "    {'cdp'       }    {'n/a'}    {'CDP number'                          }\n",
      "    {'seq_cdp'   }    {'n/a'}    {'Trace sequence number within CDP ...'}\n",
      "    {'sou_x'     }    {'m'  }    {'X coordinate of source'              }\n",
      "    {'sou_y'     }    {'m'  }    {'Y coordinate of source'              }\n",
      "    {'cdp_x'     }    {'n/a'}    {'X-coordinate of CDP'                 }\n",
      "    {'cdp_y'     }    {'n/a'}    {'Y-coordinate of CDP'                 }\n",
      "    {'iline_no'  }    {'n/a'}    {'In-line number'                      }\n",
      "    {'xline_no'  }    {'n/a'}    {'Cross-line number'                   }\n",
      "    {'trc_type'  }    {'n/a'}    {'Trace type (1=live,2=dead,3=dummy...'}\n",
      "    {'lag'       }    {'ms' }    {'Lag time between shot and recordi...'}\n",
      "\n",
      "\n"
     ]
    }
   ],
   "source": [
    "data.header_info"
   ]
  },
  {
   "cell_type": "code",
   "execution_count": 10,
   "id": "8a61cedd",
   "metadata": {},
   "outputs": [
    {
     "name": "stdout",
     "output_type": "stream",
     "text": [
      "\n",
      "ans =\n",
      "\n",
      "    'Original Field record number'\n",
      "\n",
      "\n"
     ]
    }
   ],
   "source": [
    "data.header_info{2,3}"
   ]
  },
  {
   "cell_type": "code",
   "execution_count": null,
   "id": "0af1c84e",
   "metadata": {},
   "outputs": [],
   "source": []
  },
  {
   "cell_type": "markdown",
   "id": "75812f1a",
   "metadata": {},
   "source": [
    "## Input data"
   ]
  },
  {
   "cell_type": "code",
   "execution_count": 2,
   "id": "d6a6be50",
   "metadata": {},
   "outputs": [
    {
     "name": "stdout",
     "output_type": "stream",
     "text": [
      "\n"
     ]
    }
   ],
   "source": [
    "% Definition of time window, above and below the horizon of interest.\n",
    "t1_window=0;\n",
    "t2_window=20;\n",
    "\n",
    "% Array of strings containing the names of the seismic attribute files.\n",
    "files = {'Data/Inline 900-903/seismic_amplitude_IL_900-903.segy',...\n",
    "         'Data/Inline 900-903/instantaneous_amplitude_IL_900-903.segy'};\n",
    "         \n",
    "% Array of strings containing the titles of the input seismic attributes.\n",
    "titles_files = {'Seismic amplitude', 'Instantaneous amplitude'};"
   ]
  },
  {
   "cell_type": "code",
   "execution_count": 3,
   "id": "f30e39d2",
   "metadata": {},
   "outputs": [
    {
     "name": "stdout",
     "output_type": "stream",
     "text": [
      "\n"
     ]
    }
   ],
   "source": [
    "% Definition of the weights for each attributes. It must be the same quantity as the input attributes and their sum must be\n",
    "% equal to 1. These are used to control the contribution of each seismic attribute in the calculation of Fractal Dimension.\n",
    "alpha = [0.5 0.5];"
   ]
  },
  {
   "cell_type": "code",
   "execution_count": 4,
   "id": "d99883f7",
   "metadata": {},
   "outputs": [
    {
     "name": "stdout",
     "output_type": "stream",
     "text": [
      "\n"
     ]
    }
   ],
   "source": [
    "% Opening of the time surface of interest. The format must be X - Y - Time. Otherwise, it would generate an error.\n",
    "% X-Y are coordinates.\n",
    "assy = fopen('Data/EM_MER-U2.prn');"
   ]
  },
  {
   "cell_type": "code",
   "execution_count": 5,
   "id": "0e47c633",
   "metadata": {},
   "outputs": [
    {
     "name": "stdout",
     "output_type": "stream",
     "text": [
      "\n"
     ]
    }
   ],
   "source": [
    "% File to save the calculation of Fractal Dimension.\n",
    "File_FD={'EM_MER-U2_Fractal_Dimension.prn'};"
   ]
  },
  {
   "cell_type": "code",
   "execution_count": null,
   "id": "265a9568",
   "metadata": {},
   "outputs": [],
   "source": []
  },
  {
   "cell_type": "code",
   "execution_count": null,
   "id": "8a4bb56e",
   "metadata": {},
   "outputs": [],
   "source": []
  },
  {
   "cell_type": "code",
   "execution_count": null,
   "id": "c6f05d58",
   "metadata": {},
   "outputs": [],
   "source": []
  },
  {
   "cell_type": "code",
   "execution_count": null,
   "id": "19463bc3",
   "metadata": {},
   "outputs": [],
   "source": []
  }
 ],
 "metadata": {
  "kernelspec": {
   "display_name": "Matlab",
   "language": "matlab",
   "name": "matlab"
  },
  "language_info": {
   "codemirror_mode": "octave",
   "file_extension": ".m",
   "help_links": [
    {
     "text": "MetaKernel Magics",
     "url": "https://metakernel.readthedocs.io/en/latest/source/README.html"
    }
   ],
   "mimetype": "text/x-octave",
   "name": "matlab",
   "version": "0.17.1"
  }
 },
 "nbformat": 4,
 "nbformat_minor": 5
}
